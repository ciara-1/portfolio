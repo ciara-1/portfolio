{
 "cells": [
  {
   "cell_type": "markdown",
   "id": "e0d022de-54c0-4c07-8201-c8d4abe11392",
   "metadata": {},
   "source": [
    "1. Import the standard libraries and others as needed."
   ]
  },
  {
   "cell_type": "code",
   "execution_count": 377,
   "id": "a3eea8f4-90be-462a-b682-80e4e5329615",
   "metadata": {},
   "outputs": [],
   "source": [
    "import pymongo\n",
    "from pymongo import MongoClient\n",
    "import pandas as pd\n",
    "import numpy as np\n",
    "import datetime"
   ]
  },
  {
   "cell_type": "markdown",
   "id": "0c0ce4ef-7fa7-4d91-a169-6c8ff532877a",
   "metadata": {},
   "source": [
    "2. Connect to MongoDB.\n",
    "3. Restore the database from the dump given in the ‘data.zip’ file. This database contains two collections: ‘patients’ and ‘conditions’."
   ]
  },
  {
   "cell_type": "code",
   "execution_count": 729,
   "id": "704092a0-397f-47de-8bc6-88fd54fcc04a",
   "metadata": {},
   "outputs": [],
   "source": [
    "from pymongo import MongoClient\n",
    "\n",
    "# Connect to MongoDB\n",
    "client = MongoClient(\"mongodb://localhost:27017/\")\n",
    "db = client[\"patientdb\"]\n",
    "\n",
    "# Restore\n",
    "# mongorestore --db patientdb --collection patients --drop patients.bson\n",
    "# mongorestore --db patientdb --collection conditions --drop conditions.bson"
   ]
  },
  {
   "cell_type": "markdown",
   "id": "59cf60ab-8bb2-4522-963e-a92e7e6ba850",
   "metadata": {},
   "source": [
    "4. Import the ‘patient_data_1.csv’ and ‘patient_data_2.csv’ into pandas DataFrames and harmonize them. Note the differences in Ethnicity and Gender fields mentioned in the instructions above. Also, in both DataFrames, change the name of the column indicating patient id to ‘_id’. [30 points]"
   ]
  },
  {
   "cell_type": "code",
   "execution_count": 383,
   "id": "a4299a4b-86f2-40b3-9a58-679310078021",
   "metadata": {},
   "outputs": [
    {
     "name": "stdout",
     "output_type": "stream",
     "text": [
      "        Id   BIRTHDATE MARITAL   RACE    ETHNICITY  GENDER       CITY  \\\n",
      "0  P004753  2012-01-12     NaN  asian     hispanic  Female   Westford   \n",
      "1  P009495  1961-12-01       M  white  nonhispanic  Female    Seekonk   \n",
      "2  P010851  1997-10-21     NaN  black  nonhispanic    Male     Quincy   \n",
      "3  P009020  1975-08-15       M  white  nonhispanic  Female  Worcester   \n",
      "4  P009779  2020-02-25     NaN  white  nonhispanic  Female     Bolton   \n",
      "\n",
      "             COUNTY          STATE  \n",
      "0  Middlesex County  Massachusetts  \n",
      "1    Bristol County  Massachusetts  \n",
      "2    Norfolk County  Massachusetts  \n",
      "3  Worcester County  Massachusetts  \n",
      "4  Worcester County  Massachusetts  \n",
      "        id   birthdate marital   race     ethnicity gender             city  \\\n",
      "0  P005102  1969-05-11       M  white  non-hispanic      F  East Longmeadow   \n",
      "1  P001814  1957-12-31       M  white  non-hispanic      M       Somerville   \n",
      "2  P000373  1989-07-20       S  white  non-hispanic      F        Cambridge   \n",
      "3  P007365  1967-10-26       M  white  non-hispanic      F          Mashpee   \n",
      "4  P010311  1965-02-14       M  white  non-hispanic      F       Somerville   \n",
      "\n",
      "              county          state  \n",
      "0     Hampden County  Massachusetts  \n",
      "1   Middlesex County  Massachusetts  \n",
      "2   Middlesex County  Massachusetts  \n",
      "3  Barnstable County  Massachusetts  \n",
      "4   Middlesex County  Massachusetts  \n"
     ]
    }
   ],
   "source": [
    "# Load data\n",
    "df1 = pd.read_csv(\"patient_data_1.csv\")\n",
    "df2 = pd.read_csv(\"patient_data_2.csv\")\n",
    "\n",
    "print(df1.head())\n",
    "print(df2.head())"
   ]
  },
  {
   "cell_type": "code",
   "execution_count": 385,
   "id": "77566b7a-1c1c-4b14-9e9e-6fcc61501747",
   "metadata": {},
   "outputs": [
    {
     "name": "stdout",
     "output_type": "stream",
     "text": [
      "       _id   BIRTHDATE MARITAL   RACE    ETHNICITY  GENDER       CITY  \\\n",
      "0  P004753  2012-01-12     NaN  asian     hispanic  Female   Westford   \n",
      "1  P009495  1961-12-01       M  white  nonhispanic  Female    Seekonk   \n",
      "2  P010851  1997-10-21     NaN  black  nonhispanic    Male     Quincy   \n",
      "3  P009020  1975-08-15       M  white  nonhispanic  Female  Worcester   \n",
      "4  P009779  2020-02-25     NaN  white  nonhispanic  Female     Bolton   \n",
      "\n",
      "             COUNTY          STATE  \n",
      "0  Middlesex County  Massachusetts  \n",
      "1    Bristol County  Massachusetts  \n",
      "2    Norfolk County  Massachusetts  \n",
      "3  Worcester County  Massachusetts  \n",
      "4  Worcester County  Massachusetts  \n",
      "       _id   BIRTHDATE MARITAL   RACE    ETHNICITY GENDER             CITY  \\\n",
      "0  P005102  1969-05-11       M  white  nonhispanic      F  East Longmeadow   \n",
      "1  P001814  1957-12-31       M  white  nonhispanic      M       Somerville   \n",
      "2  P000373  1989-07-20       S  white  nonhispanic      F        Cambridge   \n",
      "3  P007365  1967-10-26       M  white  nonhispanic      F          Mashpee   \n",
      "4  P010311  1965-02-14       M  white  nonhispanic      F       Somerville   \n",
      "\n",
      "              COUNTY          STATE  \n",
      "0     Hampden County  Massachusetts  \n",
      "1   Middlesex County  Massachusetts  \n",
      "2   Middlesex County  Massachusetts  \n",
      "3  Barnstable County  Massachusetts  \n",
      "4   Middlesex County  Massachusetts  \n"
     ]
    }
   ],
   "source": [
    "# Convert column names to uppercase\n",
    "df1.columns = df1.columns.str.upper()\n",
    "df2.columns = df2.columns.str.upper()\n",
    "\n",
    "# Standardize gender values\n",
    "df1[\"GENDER\"] = df1[\"GENDER\"].replace({\"MALE\": \"M\", \"FEMALE\": \"F\"})\n",
    "\n",
    "# Standardize ethnicity values\n",
    "df2[\"ETHNICITY\"] = df2[\"ETHNICITY\"].replace({\"non-hispanic\": \"nonhispanic\"})\n",
    "\n",
    "# Change the name of the column indicating patient id to ‘_id’\n",
    "df1.rename(columns={\"ID\": \"_id\"}, inplace=True)\n",
    "df2.rename(columns={\"ID\": \"_id\"}, inplace=True)\n",
    "\n",
    "print(df1.head())\n",
    "print(df2.head())"
   ]
  },
  {
   "cell_type": "markdown",
   "id": "aa95a163-b088-4ed2-b8fb-92eae0765571",
   "metadata": {},
   "source": [
    "5. From the ‘patients’ collection, retrieve the patients who are alive. Print the number of patients retrieved. This should be 8,700. Store them in a DataFrame. [20 points]"
   ]
  },
  {
   "cell_type": "code",
   "execution_count": 388,
   "id": "3c295b89-e76c-4d11-8f00-7575fea8017e",
   "metadata": {},
   "outputs": [
    {
     "name": "stdout",
     "output_type": "stream",
     "text": [
      "8700\n"
     ]
    }
   ],
   "source": [
    "alive_patients = list(db.patients.find(\n",
    "    {\"DEATHDATE\": None},  # Filter alive patients\n",
    "    {\"_id\": 1, \"BIRTHDATE\": 1, \"GENDER\": 1, \"ETHNICITY\": 1}\n",
    "))\n",
    "\n",
    "# Convert to DataFrame\n",
    "alive_df = pd.DataFrame(alive_patients)\n",
    "\n",
    "# Print the number of patients retrieved\n",
    "print(len(alive_df))"
   ]
  },
  {
   "cell_type": "markdown",
   "id": "e0c3394b-1083-4e0e-b9ac-a02cca688d72",
   "metadata": {},
   "source": [
    "6. Concatenate the above three DataFrames. You should get 10,000 patients. It should be as follows when sorted by the ‘_id’ field. [10 points]"
   ]
  },
  {
   "cell_type": "code",
   "execution_count": 391,
   "id": "df351cc6-74e2-47d8-a171-1cbc1d8864bb",
   "metadata": {},
   "outputs": [
    {
     "name": "stdout",
     "output_type": "stream",
     "text": [
      "10000\n"
     ]
    }
   ],
   "source": [
    "combined_df = pd.concat([df1, df2, alive_df], ignore_index=True)\n",
    "combined_df.sort_values(by=\"_id\", inplace=True)\n",
    "\n",
    "print(len(combined_df))"
   ]
  },
  {
   "cell_type": "markdown",
   "id": "f835e105-ba08-4324-be40-46ffe645948c",
   "metadata": {},
   "source": [
    "7. Compute the current age of the patients and store them in another column called ‘AGE’. Note that you may need to convert the data type of the ‘BIRTHDATE’ field to achieve this. [30 points]"
   ]
  },
  {
   "cell_type": "code",
   "execution_count": 394,
   "id": "baf93735-e75c-4e8b-a61d-09993252d001",
   "metadata": {},
   "outputs": [
    {
     "name": "stdout",
     "output_type": "stream",
     "text": [
      "      BIRTHDATE  AGE\n",
      "1300 2017-08-24    8\n",
      "1301 2016-08-01    9\n",
      "1302 1992-06-30   33\n",
      "1303 2004-01-09   21\n",
      "1304 1996-11-15   29\n"
     ]
    }
   ],
   "source": [
    "from datetime import datetime\n",
    "\n",
    "# Convert birthdate to datetime\n",
    "combined_df[\"BIRTHDATE\"] = pd.to_datetime(combined_df[\"BIRTHDATE\"])\n",
    "\n",
    "# Compute current age\n",
    "combined_df[\"AGE\"] = combined_df[\"BIRTHDATE\"].apply(lambda x: datetime.now().year - x.year)\n",
    "\n",
    "# Display first few rows\n",
    "print(combined_df[[\"BIRTHDATE\", \"AGE\"]].head())"
   ]
  },
  {
   "cell_type": "markdown",
   "id": "5ed79acf-1d61-4b2d-ac6b-5025984b50d3",
   "metadata": {},
   "source": [
    "8. Insert the above DataFrame to a collection named ‘patients_clean’. Display the number of documents in the collection to make sure that all the records have been inserted properly. [10 points]"
   ]
  },
  {
   "cell_type": "code",
   "execution_count": 397,
   "id": "977f6328-5e4d-4ff5-8793-0d22b4ec501d",
   "metadata": {},
   "outputs": [
    {
     "name": "stdout",
     "output_type": "stream",
     "text": [
      "10000\n"
     ]
    }
   ],
   "source": [
    "db.patients_clean.drop()\n",
    "db.patients_clean.insert_many(combined_df.to_dict(\"records\"))\n",
    "\n",
    "# Display the number of documents\n",
    "print(db.patients_clean.count_documents({}))"
   ]
  },
  {
   "cell_type": "markdown",
   "id": "1e62fb8a-7aa9-4111-ad38-c3f27614c4fa",
   "metadata": {},
   "source": [
    "9. From the conditions collection, obtain the ID’s of patients that were diagnosed with COVID-19. You should get 8,820 patients here (without filtering out deceased patients). [10 points]"
   ]
  },
  {
   "cell_type": "code",
   "execution_count": 400,
   "id": "ffd48eed-9acf-4abd-99ee-8173c0ed13c6",
   "metadata": {},
   "outputs": [
    {
     "name": "stdout",
     "output_type": "stream",
     "text": [
      "8820\n"
     ]
    }
   ],
   "source": [
    "covid_patients = db.conditions.distinct(\"patient\", {\"conditions\": {\"$in\": [\"COVID-19\"]}})\n",
    "print(len(covid_patients))"
   ]
  },
  {
   "cell_type": "markdown",
   "id": "58ef5e01-954f-452d-a724-31e8daa64fda",
   "metadata": {},
   "source": [
    "10. From the conditions collection, create an aggregation pipeline to obtain COVID-19 patients who also had ‘Cough (finding)’ and ‘Fever (finding)’ but did not have ‘Loss of taste (finding)’. Note that here you need to consider the existence/non-existence of these conditions in the same visit. You should get 2,613 patients here (without filtering out deceased patients). [20 points]"
   ]
  },
  {
   "cell_type": "code",
   "execution_count": 403,
   "id": "218acf5e-ddfc-4b4d-ad06-05100cf59fab",
   "metadata": {},
   "outputs": [
    {
     "name": "stdout",
     "output_type": "stream",
     "text": [
      "2613\n"
     ]
    }
   ],
   "source": [
    "pipeline_10 = list(db.conditions.aggregate([\n",
    "    {\n",
    "        \"$match\": {\n",
    "            \"conditions\": {\n",
    "                \"$all\": [\"COVID-19\", \"Cough (finding)\", \"Fever (finding)\"],\n",
    "                \"$nin\": [\"Loss of taste (finding)\"]\n",
    "            }\n",
    "        }\n",
    "    }\n",
    "]))\n",
    "\n",
    "print(len(pipeline_10))"
   ]
  },
  {
   "cell_type": "markdown",
   "id": "80282859-9b1d-4666-b583-3b9c9d692b19",
   "metadata": {},
   "source": [
    "11. Create a new aggregation pipeline to join patient data for 8,820 COVID-19 patients. Remove deceased patients here. Note that the ‘patients_clean’ collection only contains alive patients while ‘conditions collection contains data for both alive and the deceased. You should have data for 8,463 patients here. [40 points]"
   ]
  },
  {
   "cell_type": "code",
   "execution_count": 406,
   "id": "6b819fd5-656a-48a5-9c66-700d4b0fec6e",
   "metadata": {},
   "outputs": [
    {
     "name": "stdout",
     "output_type": "stream",
     "text": [
      "8463\n"
     ]
    }
   ],
   "source": [
    "pipeline_11 = [\n",
    "    {\"$match\": {\"conditions\": \"COVID-19\"}},\n",
    "    {\"$lookup\": {\n",
    "        \"from\": \"patients_clean\", \n",
    "        \"localField\": \"patient\", \n",
    "        \"foreignField\": \"_id\", \n",
    "        \"as\": \"patient_info\"\n",
    "    }},\n",
    "    {\"$match\": {\"patient_info\": {\"$ne\": []}}},\n",
    "    {\"$group\": {\"_id\": \"$patient\"}}\n",
    "]\n",
    "\n",
    "result_11 = list(db.conditions.aggregate(pipeline_11))\n",
    "print(len(result_11))"
   ]
  },
  {
   "cell_type": "markdown",
   "id": "fb2e875b-75de-437f-a843-d44fdc9c030c",
   "metadata": {},
   "source": [
    "12. Based on the previous pipeline, create a new pipeline to calculate the total number of alive COVID-19 patients for each race. Display the results. You should get 7089 \"white\", 709 \"black\", 610 \"asian\", 47 \"native\", and 8 \"other\" patients. [30 points]"
   ]
  },
  {
   "cell_type": "code",
   "execution_count": 696,
   "id": "3043829c-ce6a-4dd1-bf8b-2559c240f808",
   "metadata": {},
   "outputs": [
    {
     "data": {
      "text/plain": [
       "['asian', 'black', 'native', 'other', 'white']"
      ]
     },
     "execution_count": 696,
     "metadata": {},
     "output_type": "execute_result"
    }
   ],
   "source": [
    "db.patients_clean.distinct(\"RACE\") # Race values in 'patients_clean'"
   ]
  },
  {
   "cell_type": "code",
   "execution_count": 628,
   "id": "c1fe52f7-a476-431c-a36b-840f5fe3aeba",
   "metadata": {},
   "outputs": [
    {
     "name": "stdout",
     "output_type": "stream",
     "text": [
      "[{'_id': 'white', 'count': 6442}, {'_id': 'black', 'count': 656}, {'_id': 'asian', 'count': 548}, {'_id': 'native', 'count': 40}, {'_id': 'other', 'count': 7}]\n"
     ]
    }
   ],
   "source": [
    "pipeline_12 = list(db['patients_clean'].aggregate([\n",
    "    {\"$lookup\": {\n",
    "        \"from\": \"conditions\",\n",
    "        \"localField\": \"_id\",\n",
    "        \"foreignField\": \"patient\",\n",
    "        \"as\": \"patient_conditions\"\n",
    "    }},\n",
    "    {\"$match\": {\n",
    "        \"patient_conditions.conditions\": {\"$in\": [\"COVID-19\"]}\n",
    "    }},\n",
    "    {\"$group\": {\n",
    "        \"_id\": \"$RACE\",\n",
    "        \"count\": {\"$sum\": 1}\n",
    "    }},\n",
    "    {\"$sort\": {\"count\": -1}}\n",
    "]))\n",
    "\n",
    "print(pipeline_12)"
   ]
  },
  {
   "cell_type": "code",
   "execution_count": 644,
   "id": "83c665a2-d0b3-469d-aaed-8b1e80c2cbf4",
   "metadata": {},
   "outputs": [
    {
     "name": "stdout",
     "output_type": "stream",
     "text": [
      "11052\n"
     ]
    }
   ],
   "source": [
    "print(db.patients_clean.count_documents({})) # Verify total number of patients"
   ]
  },
  {
   "cell_type": "code",
   "execution_count": 646,
   "id": "374cb79d-7b90-4508-a363-2de969d194f6",
   "metadata": {},
   "outputs": [
    {
     "name": "stdout",
     "output_type": "stream",
     "text": [
      "8820\n"
     ]
    }
   ],
   "source": [
    "print(db.conditions.count_documents({\"conditions\": \"COVID-19\"})) # Verifyu COVID-19 patient count"
   ]
  },
  {
   "cell_type": "code",
   "execution_count": 640,
   "id": "2abf70a2-cbea-4db3-a9ff-8b1d7683c54c",
   "metadata": {},
   "outputs": [
    {
     "name": "stdout",
     "output_type": "stream",
     "text": [
      "8\n"
     ]
    }
   ],
   "source": [
    "print(db.patients_clean.count_documents({\"RACE\": \"other\"})) # Verify \"other\" count"
   ]
  },
  {
   "cell_type": "code",
   "execution_count": 690,
   "id": "defd09ae-5075-490e-9b1d-a0112d038fcf",
   "metadata": {},
   "outputs": [
    {
     "name": "stdout",
     "output_type": "stream",
     "text": [
      "[{'_id': 'white', 'count': 6442}, {'_id': 'black', 'count': 656}, {'_id': 'asian', 'count': 548}, {'_id': 'native', 'count': 40}, {'_id': 'other', 'count': 7}]\n"
     ]
    }
   ],
   "source": [
    "pipeline_12 = list(db['patients_clean'].aggregate([\n",
    "    {\"$lookup\": {\n",
    "        \"from\": \"conditions\",\n",
    "        \"localField\": \"_id\",\n",
    "        \"foreignField\": \"patient\",\n",
    "        \"as\": \"patient_conditions\"\n",
    "    }},\n",
    "    {\"$match\": {\n",
    "        \"patient_conditions.conditions\": {\"$in\": [\"COVID-19\"]}\n",
    "    }},\n",
    "    {\"$group\": {\n",
    "        \"_id\": \"$RACE\",\n",
    "        \"count\": {\"$sum\": 1}\n",
    "    }},\n",
    "    {\"$sort\": {\"count\": -1}}\n",
    "]))\n",
    "\n",
    "print(pipeline_12)"
   ]
  },
  {
   "cell_type": "code",
   "execution_count": 702,
   "id": "695cd5b3-e5f7-4929-aa34-04e2c5cc8555",
   "metadata": {},
   "outputs": [
    {
     "name": "stdout",
     "output_type": "stream",
     "text": [
      "8820\n",
      "11052\n"
     ]
    }
   ],
   "source": [
    "covid_patient_ids = set(db.conditions.distinct(\"patient\", {\"conditions\": \"COVID-19\"}))\n",
    "existing_patient_ids = set(db.patients_clean.distinct(\"_id\"))\n",
    "\n",
    "print (len(covid_patient_ids))\n",
    "print(len(existing_patient_ids))"
   ]
  },
  {
   "cell_type": "code",
   "execution_count": 704,
   "id": "a1e8b970-50e3-4b08-9552-fd9cac227bf5",
   "metadata": {},
   "outputs": [
    {
     "name": "stdout",
     "output_type": "stream",
     "text": [
      "1127\n"
     ]
    }
   ],
   "source": [
    "missing_covid_patients = covid_patient_ids - existing_patient_ids\n",
    "\n",
    "print(len(missing_covid_patients))"
   ]
  },
  {
   "cell_type": "code",
   "execution_count": 706,
   "id": "689f3b1a-3f39-4813-b552-a3f91a4ecb50",
   "metadata": {},
   "outputs": [],
   "source": [
    "missing_patient_data = list(db.patients.find({\"_id\": {\"$in\": list(missing_patients)}})) # Restore missinng patients"
   ]
  },
  {
   "cell_type": "code",
   "execution_count": 714,
   "id": "2fdafdd0-8e3f-4270-8471-0dd0c42f1d96",
   "metadata": {},
   "outputs": [
    {
     "name": "stdout",
     "output_type": "stream",
     "text": [
      "0\n"
     ]
    }
   ],
   "source": [
    "sample_missing_ids = list(missing_patients)[:10]\n",
    "\n",
    "existing_missing_patients = list(db.patients.find({\"_id\": {\"$in\": sample_missing_ids}}))\n",
    "\n",
    "print(len(existing_missing_patients))"
   ]
  },
  {
   "cell_type": "code",
   "execution_count": 716,
   "id": "71ce1cc5-06bd-4bce-8616-cdb218f633ed",
   "metadata": {},
   "outputs": [
    {
     "name": "stdout",
     "output_type": "stream",
     "text": [
      "Sample patient record: {'_id': 'P000001', 'BIRTHDATE': '2017-08-24', 'MARITAL': nan, 'RACE': 'white', 'ETHNICITY': 'nonhispanic', 'GENDER': 'M', 'CITY': 'Springfield', 'COUNTY': 'Hampden County', 'STATE': 'Massachusetts'}\n"
     ]
    }
   ],
   "source": [
    "patient_sample = db.patients.find_one() # Check ID format in 'patients'\n",
    "print(\"Sample patient record:\", patient_sample)"
   ]
  },
  {
   "cell_type": "code",
   "execution_count": 718,
   "id": "377cc7ee-8500-4b3a-a2fe-365de90da646",
   "metadata": {},
   "outputs": [
    {
     "name": "stdout",
     "output_type": "stream",
     "text": [
      "Sample clean patient record: {'_id': 'P000001', 'BIRTHDATE': '2017-08-24', 'MARITAL': nan, 'RACE': 'white', 'ETHNICITY': 'nonhispanic', 'GENDER': 'M', 'CITY': 'Springfield', 'COUNTY': 'Hampden County', 'STATE': 'Massachusetts'}\n"
     ]
    }
   ],
   "source": [
    "clean_sample = db.patients_clean.find_one() # Check ID format in 'patients_clean'\n",
    "print(\"Sample clean patient record:\", clean_sample)"
   ]
  },
  {
   "cell_type": "code",
   "execution_count": 724,
   "id": "4efb0967-b643-4b4e-b188-6a61124b7d48",
   "metadata": {},
   "outputs": [
    {
     "name": "stdout",
     "output_type": "stream",
     "text": [
      "0\n"
     ]
    }
   ],
   "source": [
    "missing_conditions = list(db.conditions.find({\"patient\": {\"$in\": list(missing_patients)}}))\n",
    "print(len(missing_conditions))"
   ]
  },
  {
   "cell_type": "code",
   "execution_count": 731,
   "id": "518112a7-3fcd-4bd2-9ea0-5aa340b7dfac",
   "metadata": {},
   "outputs": [
    {
     "name": "stdout",
     "output_type": "stream",
     "text": [
      "[{'_id': 'white', 'count': 6442}, {'_id': 'black', 'count': 656}, {'_id': 'asian', 'count': 548}, {'_id': 'native', 'count': 40}, {'_id': 'other', 'count': 7}]\n"
     ]
    }
   ],
   "source": [
    "pipeline_12 = list(db['patients_clean'].aggregate([\n",
    "    {\"$lookup\": {\n",
    "        \"from\": \"conditions\",\n",
    "        \"localField\": \"_id\",\n",
    "        \"foreignField\": \"patient\",\n",
    "        \"as\": \"patient_conditions\"\n",
    "    }},\n",
    "    {\"$match\": {\n",
    "        \"patient_conditions.conditions\": {\"$in\": [\"COVID-19\"]}\n",
    "    }},\n",
    "    {\"$group\": {\n",
    "        \"_id\": \"$RACE\",\n",
    "        \"count\": {\"$sum\": 1}\n",
    "    }},\n",
    "    {\"$sort\": {\"count\": -1}}\n",
    "]))\n",
    "\n",
    "print(pipeline_12)"
   ]
  },
  {
   "cell_type": "code",
   "execution_count": null,
   "id": "56a1f750-5564-47ee-b233-ab739fb28f8d",
   "metadata": {},
   "outputs": [],
   "source": []
  }
 ],
 "metadata": {
  "kernelspec": {
   "display_name": "Python 3 (ipykernel)",
   "language": "python",
   "name": "python3"
  },
  "language_info": {
   "codemirror_mode": {
    "name": "ipython",
    "version": 3
   },
   "file_extension": ".py",
   "mimetype": "text/x-python",
   "name": "python",
   "nbconvert_exporter": "python",
   "pygments_lexer": "ipython3",
   "version": "3.12.7"
  }
 },
 "nbformat": 4,
 "nbformat_minor": 5
}
