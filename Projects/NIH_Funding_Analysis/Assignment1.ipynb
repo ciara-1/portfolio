{
 "cells": [
  {
   "cell_type": "markdown",
   "id": "fddd594b-384a-4529-abec-47aa0abe2bd5",
   "metadata": {},
   "source": [
    "1. Import the libraries needed."
   ]
  },
  {
   "cell_type": "code",
   "execution_count": 494,
   "id": "1169957a-c397-4cb2-87c2-8542321e3220",
   "metadata": {},
   "outputs": [],
   "source": [
    "import pandas as pd\n",
    "import numpy as np\n",
    "import seaborn as sns\n",
    "import statsmodels.api as sm"
   ]
  },
  {
   "cell_type": "markdown",
   "id": "88fd64fe-3f24-4e71-abdc-3fd07aedcc72",
   "metadata": {},
   "source": [
    "2. Load the funding data in “nih-Worldwide2015.xls” into a DataFrame and visualize the first 5 rows. Display the dtypes of the columns. (5 points)"
   ]
  },
  {
   "cell_type": "code",
   "execution_count": 497,
   "id": "276e2e71-896b-4e38-8766-f4c0f5c66fc6",
   "metadata": {},
   "outputs": [
    {
     "data": {
      "text/html": [
       "<div>\n",
       "<style scoped>\n",
       "    .dataframe tbody tr th:only-of-type {\n",
       "        vertical-align: middle;\n",
       "    }\n",
       "\n",
       "    .dataframe tbody tr th {\n",
       "        vertical-align: top;\n",
       "    }\n",
       "\n",
       "    .dataframe thead th {\n",
       "        text-align: right;\n",
       "    }\n",
       "</style>\n",
       "<table border=\"1\" class=\"dataframe\">\n",
       "  <thead>\n",
       "    <tr style=\"text-align: right;\">\n",
       "      <th></th>\n",
       "      <th>Organization Name</th>\n",
       "      <th>Project Number</th>\n",
       "      <th>Funding Mechanism</th>\n",
       "      <th>NIH Reference</th>\n",
       "      <th>PI Name</th>\n",
       "      <th>Project Title</th>\n",
       "      <th>DEPT NAME</th>\n",
       "      <th>NIH Dept Combining Name</th>\n",
       "      <th>NIH MC Combining Name</th>\n",
       "      <th>Direct Cost</th>\n",
       "      <th>...</th>\n",
       "      <th>Funding</th>\n",
       "      <th>Congressional District</th>\n",
       "      <th>City</th>\n",
       "      <th>State or Country Name</th>\n",
       "      <th>Zip Code</th>\n",
       "      <th>Attributed to Medical School</th>\n",
       "      <th>Medical School Location</th>\n",
       "      <th>Institution Type</th>\n",
       "      <th>Award Notice Date</th>\n",
       "      <th>FOA</th>\n",
       "    </tr>\n",
       "  </thead>\n",
       "  <tbody>\n",
       "    <tr>\n",
       "      <th>0</th>\n",
       "      <td>21ST CENTURY THERAPEUTICS, INC.</td>\n",
       "      <td>5R43GM109528-02</td>\n",
       "      <td>RPGs - SBIR/STTR</td>\n",
       "      <td>8860204</td>\n",
       "      <td>SHAW, JIAJIU</td>\n",
       "      <td>Development of a Novel ELISA Kit for Screening...</td>\n",
       "      <td>NaN</td>\n",
       "      <td>NONE</td>\n",
       "      <td>UNAVAILABLE</td>\n",
       "      <td>NaN</td>\n",
       "      <td>...</td>\n",
       "      <td>335740</td>\n",
       "      <td>13.0</td>\n",
       "      <td>DETROIT</td>\n",
       "      <td>MICHIGAN</td>\n",
       "      <td>48220</td>\n",
       "      <td>NaN</td>\n",
       "      <td>NaN</td>\n",
       "      <td>NaN</td>\n",
       "      <td>2015-05-08</td>\n",
       "      <td>PA11-335</td>\n",
       "    </tr>\n",
       "    <tr>\n",
       "      <th>1</th>\n",
       "      <td>21ST CENTURY THERAPEUTICS, INC.</td>\n",
       "      <td>1R43AT008202-01A1</td>\n",
       "      <td>RPGs - SBIR/STTR</td>\n",
       "      <td>8832837</td>\n",
       "      <td>CHEN, BEN D.</td>\n",
       "      <td>Novel Compounds from Sycamore Leaves for the T...</td>\n",
       "      <td>NaN</td>\n",
       "      <td>NONE</td>\n",
       "      <td>UNAVAILABLE</td>\n",
       "      <td>NaN</td>\n",
       "      <td>...</td>\n",
       "      <td>303745</td>\n",
       "      <td>13.0</td>\n",
       "      <td>DETROIT</td>\n",
       "      <td>MICHIGAN</td>\n",
       "      <td>48220</td>\n",
       "      <td>NaN</td>\n",
       "      <td>NaN</td>\n",
       "      <td>NaN</td>\n",
       "      <td>2015-08-10</td>\n",
       "      <td>PA14-071</td>\n",
       "    </tr>\n",
       "    <tr>\n",
       "      <th>2</th>\n",
       "      <td>2B TECHNOLOGIES, INC.</td>\n",
       "      <td>2R44ES024031-02</td>\n",
       "      <td>RPGs - SBIR/STTR</td>\n",
       "      <td>8977721</td>\n",
       "      <td>BIRKS, JOHN W</td>\n",
       "      <td>Personal Exposure Monitoring of the Air Pollut...</td>\n",
       "      <td>NaN</td>\n",
       "      <td>NONE</td>\n",
       "      <td>UNAVAILABLE</td>\n",
       "      <td>NaN</td>\n",
       "      <td>...</td>\n",
       "      <td>499734</td>\n",
       "      <td>2.0</td>\n",
       "      <td>BOULDER</td>\n",
       "      <td>COLORADO</td>\n",
       "      <td>NaN</td>\n",
       "      <td>NaN</td>\n",
       "      <td>NaN</td>\n",
       "      <td>NaN</td>\n",
       "      <td>2015-07-20</td>\n",
       "      <td>PA14-071</td>\n",
       "    </tr>\n",
       "    <tr>\n",
       "      <th>3</th>\n",
       "      <td>3-C INSTITUTE FOR SOCIAL DEVELOPMENT</td>\n",
       "      <td>271201400075C-1-0-0</td>\n",
       "      <td>R&amp;D Contracts</td>\n",
       "      <td>9041442</td>\n",
       "      <td>SANCHEZ, REBECCA</td>\n",
       "      <td>IGF::OT::IGF : ARISE:  AN ONLINE RELAPSE PREVE...</td>\n",
       "      <td>NaN</td>\n",
       "      <td>NONE</td>\n",
       "      <td>UNAVAILABLE</td>\n",
       "      <td>NaN</td>\n",
       "      <td>...</td>\n",
       "      <td>70112</td>\n",
       "      <td>4.0</td>\n",
       "      <td>DURHAM</td>\n",
       "      <td>NORTH CAROLINA</td>\n",
       "      <td>27513</td>\n",
       "      <td>NaN</td>\n",
       "      <td>NaN</td>\n",
       "      <td>NaN</td>\n",
       "      <td>NaT</td>\n",
       "      <td>NaN</td>\n",
       "    </tr>\n",
       "    <tr>\n",
       "      <th>4</th>\n",
       "      <td>3-C INSTITUTE FOR SOCIAL DEVELOPMENT</td>\n",
       "      <td>2R44DA035014-02</td>\n",
       "      <td>RPGs - SBIR/STTR</td>\n",
       "      <td>8981102</td>\n",
       "      <td>MCMILLEN, JANEY STURTZ</td>\n",
       "      <td>Web-based Tool for the Dissemination of Eviden...</td>\n",
       "      <td>NaN</td>\n",
       "      <td>NONE</td>\n",
       "      <td>UNAVAILABLE</td>\n",
       "      <td>NaN</td>\n",
       "      <td>...</td>\n",
       "      <td>562731</td>\n",
       "      <td>4.0</td>\n",
       "      <td>DURHAM</td>\n",
       "      <td>NORTH CAROLINA</td>\n",
       "      <td>27513</td>\n",
       "      <td>NaN</td>\n",
       "      <td>NaN</td>\n",
       "      <td>NaN</td>\n",
       "      <td>2015-09-08</td>\n",
       "      <td>PA14-071</td>\n",
       "    </tr>\n",
       "  </tbody>\n",
       "</table>\n",
       "<p>5 rows × 21 columns</p>\n",
       "</div>"
      ],
      "text/plain": [
       "                      Organization Name       Project Number  \\\n",
       "0       21ST CENTURY THERAPEUTICS, INC.      5R43GM109528-02   \n",
       "1       21ST CENTURY THERAPEUTICS, INC.    1R43AT008202-01A1   \n",
       "2                 2B TECHNOLOGIES, INC.      2R44ES024031-02   \n",
       "3  3-C INSTITUTE FOR SOCIAL DEVELOPMENT  271201400075C-1-0-0   \n",
       "4  3-C INSTITUTE FOR SOCIAL DEVELOPMENT      2R44DA035014-02   \n",
       "\n",
       "  Funding Mechanism  NIH Reference                 PI Name  \\\n",
       "0  RPGs - SBIR/STTR        8860204           SHAW, JIAJIU    \n",
       "1  RPGs - SBIR/STTR        8832837            CHEN, BEN D.   \n",
       "2  RPGs - SBIR/STTR        8977721           BIRKS, JOHN W   \n",
       "3     R&D Contracts        9041442       SANCHEZ, REBECCA    \n",
       "4  RPGs - SBIR/STTR        8981102  MCMILLEN, JANEY STURTZ   \n",
       "\n",
       "                                       Project Title DEPT NAME  \\\n",
       "0  Development of a Novel ELISA Kit for Screening...       NaN   \n",
       "1  Novel Compounds from Sycamore Leaves for the T...       NaN   \n",
       "2  Personal Exposure Monitoring of the Air Pollut...       NaN   \n",
       "3  IGF::OT::IGF : ARISE:  AN ONLINE RELAPSE PREVE...       NaN   \n",
       "4  Web-based Tool for the Dissemination of Eviden...       NaN   \n",
       "\n",
       "  NIH Dept Combining Name NIH MC Combining Name  Direct Cost  ...  Funding  \\\n",
       "0                    NONE           UNAVAILABLE          NaN  ...   335740   \n",
       "1                    NONE           UNAVAILABLE          NaN  ...   303745   \n",
       "2                    NONE           UNAVAILABLE          NaN  ...   499734   \n",
       "3                    NONE           UNAVAILABLE          NaN  ...    70112   \n",
       "4                    NONE           UNAVAILABLE          NaN  ...   562731   \n",
       "\n",
       "   Congressional District     City State or Country Name Zip Code  \\\n",
       "0                    13.0  DETROIT              MICHIGAN    48220   \n",
       "1                    13.0  DETROIT              MICHIGAN    48220   \n",
       "2                     2.0  BOULDER              COLORADO      NaN   \n",
       "3                     4.0   DURHAM        NORTH CAROLINA    27513   \n",
       "4                     4.0   DURHAM        NORTH CAROLINA    27513   \n",
       "\n",
       "  Attributed to Medical School Medical School Location Institution Type  \\\n",
       "0                          NaN                     NaN              NaN   \n",
       "1                          NaN                     NaN              NaN   \n",
       "2                          NaN                     NaN              NaN   \n",
       "3                          NaN                     NaN              NaN   \n",
       "4                          NaN                     NaN              NaN   \n",
       "\n",
       "  Award Notice Date       FOA  \n",
       "0        2015-05-08  PA11-335  \n",
       "1        2015-08-10  PA14-071  \n",
       "2        2015-07-20  PA14-071  \n",
       "3               NaT       NaN  \n",
       "4        2015-09-08  PA14-071  \n",
       "\n",
       "[5 rows x 21 columns]"
      ]
     },
     "metadata": {},
     "output_type": "display_data"
    },
    {
     "name": "stdout",
     "output_type": "stream",
     "text": [
      "Organization Name                       object\n",
      "Project Number                          object\n",
      "Funding Mechanism                       object\n",
      "NIH Reference                            int64\n",
      "PI Name                                 object\n",
      "Project Title                           object\n",
      "DEPT NAME                               object\n",
      "NIH Dept Combining Name                 object\n",
      "NIH MC Combining Name                   object\n",
      "Direct Cost                            float64\n",
      "Indirect Cost                          float64\n",
      "Funding                                  int64\n",
      "Congressional District                 float64\n",
      "City                                    object\n",
      "State or Country Name                   object\n",
      "Zip Code                                object\n",
      "Attributed to Medical School            object\n",
      "Medical School Location                 object\n",
      "Institution Type                        object\n",
      "Award Notice Date               datetime64[ns]\n",
      "FOA                                     object\n",
      "dtype: object\n"
     ]
    }
   ],
   "source": [
    "# Load \"noh-Worldwide2015.xls\" data\n",
    "file_path = 'nih-Worldwide2015.xls'\n",
    "nih_data = pd.read_excel(file_path)\n",
    "\n",
    "# Display first 5 rows\n",
    "display(nih_data.head())\n",
    "\n",
    "# Display column data types\n",
    "print(nih_data.dtypes)"
   ]
  },
  {
   "cell_type": "markdown",
   "id": "525531d0-8230-4892-972c-2cdd791e391d",
   "metadata": {},
   "source": [
    "3. Show the projects that are attributed to a medical school. (10 points)"
   ]
  },
  {
   "cell_type": "code",
   "execution_count": 500,
   "id": "14f17fad-2691-4aa2-a426-cf516f0ba445",
   "metadata": {},
   "outputs": [
    {
     "name": "stdout",
     "output_type": "stream",
     "text": [
      "    Attributed to Medical School\n",
      "231                            Y\n",
      "232                            Y\n",
      "233                            Y\n",
      "234                            Y\n",
      "236                            Y\n"
     ]
    }
   ],
   "source": [
    "# Filter projects that are attributed to a medical school\n",
    "projects = nih_data[nih_data['Attributed to Medical School'].notna()]\n",
    "\n",
    "# Display records from 'Attributed to Medical School' column\n",
    "medical_school = projects[['Attributed to Medical School']]\n",
    "print(medical_school.head())"
   ]
  },
  {
   "cell_type": "markdown",
   "id": "ad9beb6f-6dfa-4686-b554-a82d3d2bd226",
   "metadata": {},
   "source": [
    "4. Parse activity and institution codes according to the instructions below and store them as two new columns: ‘code’ (activity code) and ‘icode’ (institution code). (20 points)"
   ]
  },
  {
   "cell_type": "code",
   "execution_count": 503,
   "id": "6c8a1ce4-66fa-4393-9edc-2a44f004c1d4",
   "metadata": {},
   "outputs": [
    {
     "name": "stdout",
     "output_type": "stream",
     "text": [
      "  code icode\n",
      "0  R43    GM\n",
      "1  R43    AT\n",
      "2  R44    ES\n",
      "3  712    01\n",
      "4  R44    DA\n"
     ]
    }
   ],
   "source": [
    "# Function to parse 'code' (activity code)\n",
    "def extract_code(project_number):\n",
    "    if isinstance(project_number, str) and len(project_number) >= 6:\n",
    "        return project_number[1:4]  # Extract second to fourth characters\n",
    "    return None\n",
    "\n",
    "# Function to parse 'icode' (institution code)\n",
    "def extract_icode(project_number):\n",
    "    if isinstance(project_number, str) and len(project_number) >= 6:\n",
    "        return project_number[4:6]  # Extract fifth and sixth characters\n",
    "    return None\n",
    "\n",
    "# Apply 'code' and 'icode' functions to new columns\n",
    "nih_data['code'] = nih_data['Project Number'].apply(extract_code)\n",
    "nih_data['icode'] = nih_data['Project Number'].apply(extract_icode)\n",
    "\n",
    "# Display new columns\n",
    "print(nih_data[['code', 'icode']].head())"
   ]
  },
  {
   "cell_type": "markdown",
   "id": "4a00c9f0-7e18-4df1-8b77-4be264dbea40",
   "metadata": {},
   "source": [
    "5. Keep only records where the activity code starts with a letter in the English alphabet. e.g. Records with activity code ‘R43’ should be kept. But records with ‘712’ should not since it does not contain any characters in the alphabet. (10 points)"
   ]
  },
  {
   "cell_type": "code",
   "execution_count": 506,
   "id": "1f6c5630-6f2a-43e9-b349-dc0398cbf0bf",
   "metadata": {},
   "outputs": [
    {
     "name": "stdout",
     "output_type": "stream",
     "text": [
      "Number of records: 50173\n",
      "  code icode\n",
      "0  R43    GM\n",
      "1  R43    AT\n",
      "2  R44    ES\n",
      "4  R44    DA\n",
      "5  R44    MD\n"
     ]
    }
   ],
   "source": [
    "# Filter records where 'code' starts with A-Z\n",
    "code_a_z = nih_data[nih_data['code'].str.match(r'^[A-Za-z]', na=False)]\n",
    "\n",
    "# Display the number of records (verify 50,173 records)\n",
    "print(f\"Number of records: {code_a_z.shape[0]}\")\n",
    "\n",
    "# Display first 5 rows\n",
    "print(code_a_z[['code', 'icode']].head())"
   ]
  },
  {
   "cell_type": "markdown",
   "id": "b7af9d7a-1896-4378-9490-34b23988f1d6",
   "metadata": {},
   "source": [
    "6. Find the 10 NIH institutes that gave the most funding. (15 points)"
   ]
  },
  {
   "cell_type": "code",
   "execution_count": 509,
   "id": "7fa965e5-86e9-4cca-8dfe-c001594611fc",
   "metadata": {},
   "outputs": [
    {
     "name": "stdout",
     "output_type": "stream",
     "text": [
      "icode\n",
      "CA    3067378774\n",
      "AI    2816658845\n",
      "GM    2305153448\n",
      "HL    2275682842\n",
      "DK    1594835858\n",
      "NS    1339911506\n",
      "MH    1161677004\n",
      "AG     999538398\n",
      "HD     971449006\n",
      "DA     832033498\n",
      "Name: Funding, dtype: int64\n"
     ]
    }
   ],
   "source": [
    "# Group by 'icode'and sum the 'Funding' column\n",
    "top_10_institutes = code_a_z.groupby('icode')['Funding'].sum().nlargest(10)\n",
    "\n",
    "# Display top 10 NIH institutes\n",
    "print(top_10_institutes)"
   ]
  },
  {
   "cell_type": "markdown",
   "id": "7ab7b7a1-bd41-457a-997a-fc1acc1b8496",
   "metadata": {},
   "source": [
    "7. Find the 10 Principal Investigators with the most number of grants. (15 points)"
   ]
  },
  {
   "cell_type": "code",
   "execution_count": 512,
   "id": "7cce8318-ed00-4a45-ac7f-2498f5fd091b",
   "metadata": {},
   "outputs": [
    {
     "name": "stdout",
     "output_type": "stream",
     "text": [
      "PI Name\n",
      "WOODLAND, DAVID L.       42\n",
      "STEWART, DAVID J.        30\n",
      "KAPLAN, DAVID L          12\n",
      "CALIGIURI, MICHAEL A.    10\n",
      "WANG, TIMOTHY CRAGIN     10\n",
      "SHARPLESS, NORMAN E      10\n",
      "SNYDER, MICHAEL P         9\n",
      "REZNIKOFF, WILLIAM S.     9\n",
      "ADAMSON, PETER C.         9\n",
      "BRADY, KATHLEEN T.        9\n",
      "Name: count, dtype: int64\n"
     ]
    }
   ],
   "source": [
    "# Group by 'PI Name' and count number of grants\n",
    "top_10_pi = code_a_z['PI Name'].value_counts().nlargest(10)\n",
    "\n",
    "# Display top 10 Principal Investigators\n",
    "print(top_10_pi)"
   ]
  },
  {
   "cell_type": "markdown",
   "id": "c0e14665-5a8a-4b83-9ae8-f6957e7ca184",
   "metadata": {},
   "source": [
    "8. Find the 10 organizations that have obtained the most diverse type of funding mechanisms. The activity code column you have created above denotes the funding mechanism. (20 points)"
   ]
  },
  {
   "cell_type": "code",
   "execution_count": 515,
   "id": "0f937289-171b-4373-b12f-d49b3fec500f",
   "metadata": {},
   "outputs": [
    {
     "name": "stdout",
     "output_type": "stream",
     "text": [
      "Organization Name\n",
      "UNIVERSITY OF WASHINGTON                  58\n",
      "EMORY UNIVERSITY                          54\n",
      "UNIVERSITY OF CALIFORNIA LOS ANGELES      53\n",
      "UNIVERSITY OF MICHIGAN                    53\n",
      "UNIVERSITY OF PITTSBURGH AT PITTSBURGH    53\n",
      "WASHINGTON UNIVERSITY                     53\n",
      "DUKE UNIVERSITY                           52\n",
      "JOHNS HOPKINS UNIVERSITY                  52\n",
      "UNIV OF NORTH CAROLINA CHAPEL HILL        52\n",
      "UNIVERSITY OF PENNSYLVANIA                52\n",
      "Name: code, dtype: int64\n"
     ]
    }
   ],
   "source": [
    "# Custom function to count diverse type of funding mechanisms\n",
    "def count_unique_funding_mechanisms(series):\n",
    "    return len(np.unique(series.dropna()))  # Count unique non-null values\n",
    "\n",
    "# Group by 'Organization Name' and apply custom function\n",
    "top_10_orgs_diverse_funding = (\n",
    "    code_a_z.groupby('Organization Name')['code']\n",
    "    .agg(count_unique_funding_mechanisms)\n",
    "    .nlargest(10))\n",
    "\n",
    "# Display top 10 organizations that have obtained the most diverse type of funding mechanisms\n",
    "print(top_10_orgs)"
   ]
  },
  {
   "cell_type": "markdown",
   "id": "7540a319-22a9-4e98-9ba1-f4087c5748d8",
   "metadata": {},
   "source": [
    "9. Find the total funding and average funding given per each state/country. (20 points)"
   ]
  },
  {
   "cell_type": "code",
   "execution_count": 518,
   "id": "45c6cc84-9f63-451a-be55-83deced86366",
   "metadata": {},
   "outputs": [
    {
     "name": "stdout",
     "output_type": "stream",
     "text": [
      "   State or Country Name  Total Funding  Average Funding\n",
      "0                ALABAMA      258212374    456205.607774\n",
      "1                 ALASKA       13530884    751715.777778\n",
      "2              ARGENTINA         832633    118947.571429\n",
      "3                ARIZONA      150372947    382628.363868\n",
      "4               ARKANSAS       40322657    443106.120879\n",
      "..                   ...            ...              ...\n",
      "93         WEST VIRGINIA       20974749    355504.220339\n",
      "94             WISCONSIN      400636646    442692.426519\n",
      "95               WYOMING       10459943    615290.764706\n",
      "96                ZAMBIA        1760769    880384.500000\n",
      "97              ZIMBABWE        2871434    410204.857143\n",
      "\n",
      "[98 rows x 3 columns]\n"
     ]
    }
   ],
   "source": [
    "# Group by 'State or Country Name' and calculate total and average funding\n",
    "funding_location = code_a_z.groupby('State or Country Name')['Funding'].agg(['sum', 'mean']).reset_index()\n",
    "\n",
    "# Rename columns\n",
    "funding_location.columns = ['State or Country Name', 'Total Funding', 'Average Funding']\n",
    "\n",
    "# Display total funding and average funding given per each state/country\n",
    "print(funding_location)"
   ]
  },
  {
   "cell_type": "markdown",
   "id": "071488a9-81a4-4d06-86c5-40a3b45b1813",
   "metadata": {},
   "source": [
    "10. Note there are also foreign countries in the result obtained from question 9. Load the “us-states.csv” file to keep only the US states and to create a separate column with the state acronym. (25 points)"
   ]
  },
  {
   "cell_type": "code",
   "execution_count": 521,
   "id": "6f186976-6afb-4f07-aecb-079564770a59",
   "metadata": {},
   "outputs": [
    {
     "name": "stdout",
     "output_type": "stream",
     "text": [
      "  State or Country Name  Total Funding  Average Funding State Acronym\n",
      "0               ALABAMA      258212374    456205.607774            AL\n",
      "1                ALASKA       13530884    751715.777778            AK\n",
      "2               ARIZONA      150372947    382628.363868            AZ\n",
      "3              ARKANSAS       40322657    443106.120879            AR\n",
      "4            CALIFORNIA     3401211113    450849.829401            CA\n"
     ]
    }
   ],
   "source": [
    "# Load \"us-states.csv\" data\n",
    "us_states = pd.read_csv(\"us-states.csv\", header=None, names=['State Name', 'State Acronym'])\n",
    "\n",
    "# Reformat state name\n",
    "us_states['State Name'] = us_states['State Name'].str.replace(\", US\", \"\", regex=False).str.upper().str.strip()\n",
    "\n",
    "# Merge the funding dataset with the US states dataset\n",
    "us_funding = pd.merge(\n",
    "    funding_location,  # Funding data\n",
    "    us_states,  # US states dataset\n",
    "    left_on='State or Country Name',  # Column in funding_location\n",
    "    right_on='State Name',  # Column in us_states\n",
    "    how='inner')  # Keep only US states\n",
    "\n",
    "# Remove duplicate 'State Name' column\n",
    "us_funding = us_funding.drop(columns=['State Name'])\n",
    "\n",
    "# Display funding data\n",
    "print(us_funding.head())"
   ]
  },
  {
   "cell_type": "markdown",
   "id": "e1703ef3-293b-416f-b31b-ae7701d09b0c",
   "metadata": {},
   "source": [
    "11. Draw a bar plot with state acronyms in the x axis and total funding in the y axis. Make sure the plot is clear enough to read (adjust the size if it’s too small). (10 points)"
   ]
  },
  {
   "cell_type": "code",
   "execution_count": 524,
   "id": "99e79587-e187-4955-8554-4fc7967d2c31",
   "metadata": {},
   "outputs": [
    {
     "data": {
      "image/png": "[encoded data removed]",
      "text/plain": [
       "<Figure size 1400x600 with 1 Axes>"
      ]
     },
     "metadata": {},
     "output_type": "display_data"
    }
   ],
   "source": [
    "# Create bar plot\n",
    "sns.set(style=\"whitegrid\", rc={'figure.figsize':(14,6)})\n",
    "\n",
    "ax = sns.barplot(\n",
    "    data=us_funding, \n",
    "    x=\"State Acronym\", \n",
    "    y=\"Total Funding\", \n",
    "    hue=\"State Acronym\",  # Assign x variable to hue\n",
    "    palette=\"Blues_r\", \n",
    "    legend=False)  # Remove redundant legend\n",
    "\n",
    "ax.tick_params(axis='x', labelsize=8)\n",
    "ax.set_xlabel(\"State Acronym\", fontsize=12) # Label x axis\n",
    "ax.set_ylabel(\"Total Funding\", fontsize=12) # Label y axis\n",
    "ax.set_title(\"Total Funding by State\", fontsize=16)\n",
    "sns.despine() # Remove top and right spines\n"
   ]
  },
  {
   "cell_type": "markdown",
   "id": "1f9ed12f-c302-4ba4-b760-09ed2409a396",
   "metadata": {},
   "source": [
    "12. Load the ‘papers.csv’ file to a DataFrame. This file contains number of papers published and support year for a sample of 5,000 records from the ‘nih-Worldwide2015.xls’ file. (15 points)"
   ]
  },
  {
   "cell_type": "code",
   "execution_count": 527,
   "id": "14247c12-951c-4f98-944c-5e6857b604fd",
   "metadata": {},
   "outputs": [
    {
     "data": {
      "text/html": [
       "<div>\n",
       "<style scoped>\n",
       "    .dataframe tbody tr th:only-of-type {\n",
       "        vertical-align: middle;\n",
       "    }\n",
       "\n",
       "    .dataframe tbody tr th {\n",
       "        vertical-align: top;\n",
       "    }\n",
       "\n",
       "    .dataframe thead th {\n",
       "        text-align: right;\n",
       "    }\n",
       "</style>\n",
       "<table border=\"1\" class=\"dataframe\">\n",
       "  <thead>\n",
       "    <tr style=\"text-align: right;\">\n",
       "      <th></th>\n",
       "      <th>Project Number</th>\n",
       "      <th>year</th>\n",
       "      <th>papersNum</th>\n",
       "      <th>Funding</th>\n",
       "    </tr>\n",
       "  </thead>\n",
       "  <tbody>\n",
       "    <tr>\n",
       "      <th>0</th>\n",
       "      <td>5R01NS082746-03</td>\n",
       "      <td>3</td>\n",
       "      <td>3</td>\n",
       "      <td>318529</td>\n",
       "    </tr>\n",
       "    <tr>\n",
       "      <th>1</th>\n",
       "      <td>5R01AI041576-18</td>\n",
       "      <td>18</td>\n",
       "      <td>0</td>\n",
       "      <td>399221</td>\n",
       "    </tr>\n",
       "    <tr>\n",
       "      <th>2</th>\n",
       "      <td>5R01EY025102-02</td>\n",
       "      <td>2</td>\n",
       "      <td>0</td>\n",
       "      <td>189262</td>\n",
       "    </tr>\n",
       "    <tr>\n",
       "      <th>3</th>\n",
       "      <td>3R01CA166588-04S1</td>\n",
       "      <td>4</td>\n",
       "      <td>0</td>\n",
       "      <td>78917</td>\n",
       "    </tr>\n",
       "    <tr>\n",
       "      <th>4</th>\n",
       "      <td>5R01CA158598-04</td>\n",
       "      <td>4</td>\n",
       "      <td>0</td>\n",
       "      <td>544193</td>\n",
       "    </tr>\n",
       "    <tr>\n",
       "      <th>...</th>\n",
       "      <td>...</td>\n",
       "      <td>...</td>\n",
       "      <td>...</td>\n",
       "      <td>...</td>\n",
       "    </tr>\n",
       "    <tr>\n",
       "      <th>4995</th>\n",
       "      <td>5R01GM107287-02</td>\n",
       "      <td>2</td>\n",
       "      <td>0</td>\n",
       "      <td>325070</td>\n",
       "    </tr>\n",
       "    <tr>\n",
       "      <th>4996</th>\n",
       "      <td>2R01AA019443-06A1</td>\n",
       "      <td>6</td>\n",
       "      <td>0</td>\n",
       "      <td>360521</td>\n",
       "    </tr>\n",
       "    <tr>\n",
       "      <th>4997</th>\n",
       "      <td>5R01DC001919-23</td>\n",
       "      <td>23</td>\n",
       "      <td>0</td>\n",
       "      <td>350274</td>\n",
       "    </tr>\n",
       "    <tr>\n",
       "      <th>4998</th>\n",
       "      <td>3R01HL110068-03S1</td>\n",
       "      <td>3</td>\n",
       "      <td>0</td>\n",
       "      <td>46905</td>\n",
       "    </tr>\n",
       "    <tr>\n",
       "      <th>4999</th>\n",
       "      <td>3R01GM061068-13S1</td>\n",
       "      <td>13</td>\n",
       "      <td>0</td>\n",
       "      <td>55750</td>\n",
       "    </tr>\n",
       "  </tbody>\n",
       "</table>\n",
       "<p>5000 rows × 4 columns</p>\n",
       "</div>"
      ],
      "text/plain": [
       "         Project Number  year  papersNum  Funding\n",
       "0       5R01NS082746-03     3          3   318529\n",
       "1       5R01AI041576-18    18          0   399221\n",
       "2       5R01EY025102-02     2          0   189262\n",
       "3     3R01CA166588-04S1     4          0    78917\n",
       "4       5R01CA158598-04     4          0   544193\n",
       "...                 ...   ...        ...      ...\n",
       "4995    5R01GM107287-02     2          0   325070\n",
       "4996  2R01AA019443-06A1     6          0   360521\n",
       "4997    5R01DC001919-23    23          0   350274\n",
       "4998  3R01HL110068-03S1     3          0    46905\n",
       "4999  3R01GM061068-13S1    13          0    55750\n",
       "\n",
       "[5000 rows x 4 columns]"
      ]
     },
     "metadata": {},
     "output_type": "display_data"
    }
   ],
   "source": [
    "# Load \"papers.csv\" data\n",
    "papers = pd.read_csv(\"papers.csv\")\n",
    "\n",
    "# Merge datasets to add Funding column\n",
    "merged_df = papers.merge(nih_data[['Project Number', 'Funding']], on='Project Number', how='left')\n",
    "\n",
    "display(merged_df)"
   ]
  },
  {
   "cell_type": "markdown",
   "id": "22cb65ca-6e58-48b8-bd46-d39831cf7e2a",
   "metadata": {},
   "source": [
    "13. Draw a scatter plot with Seaborn with ‘Funding’ in the x-axis and ‘papersNum’ in the y-axis. (10 points)"
   ]
  },
  {
   "cell_type": "code",
   "execution_count": 530,
   "id": "31fae5f8-0247-4fae-a578-b977e408c488",
   "metadata": {},
   "outputs": [
    {
     "data": {
      "image/png": "[encoded data removed]",
      "text/plain": [
       "<Figure size 1400x600 with 1 Axes>"
      ]
     },
     "metadata": {},
     "output_type": "display_data"
    }
   ],
   "source": [
    "# Create scatter plot\n",
    "sns.set(style=\"whitegrid\", rc={'figure.figsize':(14, 6)})\n",
    "sns.scatterplot(data=merged_df, x='Funding', y='papersNum', alpha=0.6)\n",
    "sns.despine()"
   ]
  },
  {
   "cell_type": "markdown",
   "id": "08c9f2b2-7965-463c-891b-02a899cd6eee",
   "metadata": {},
   "source": [
    "14. Now run a linear regression model adjusted for support year to evaluate whether there exists a relationship between the funding amount and the number of papers produced. You may use statsmodels library to run an ordinary least square model as follows. (25 points)"
   ]
  },
  {
   "cell_type": "code",
   "execution_count": 533,
   "id": "d34b589d-6f3a-424d-b5bd-8a1e45e5fa2c",
   "metadata": {},
   "outputs": [
    {
     "data": {
      "text/html": [
       "<table class=\"simpletable\">\n",
       "<caption>OLS Regression Results</caption>\n",
       "<tr>\n",
       "  <th>Dep. Variable:</th>        <td>papersNum</td>    <th>  R-squared:         </th> <td>   0.007</td> \n",
       "</tr>\n",
       "<tr>\n",
       "  <th>Model:</th>                   <td>OLS</td>       <th>  Adj. R-squared:    </th> <td>   0.006</td> \n",
       "</tr>\n",
       "<tr>\n",
       "  <th>Method:</th>             <td>Least Squares</td>  <th>  F-statistic:       </th> <td>   16.45</td> \n",
       "</tr>\n",
       "<tr>\n",
       "  <th>Date:</th>             <td>Wed, 05 Feb 2025</td> <th>  Prob (F-statistic):</th> <td>7.54e-08</td> \n",
       "</tr>\n",
       "<tr>\n",
       "  <th>Time:</th>                 <td>16:12:25</td>     <th>  Log-Likelihood:    </th> <td> -13145.</td> \n",
       "</tr>\n",
       "<tr>\n",
       "  <th>No. Observations:</th>      <td>  5000</td>      <th>  AIC:               </th> <td>2.630e+04</td>\n",
       "</tr>\n",
       "<tr>\n",
       "  <th>Df Residuals:</th>          <td>  4997</td>      <th>  BIC:               </th> <td>2.631e+04</td>\n",
       "</tr>\n",
       "<tr>\n",
       "  <th>Df Model:</th>              <td>     2</td>      <th>                     </th>     <td> </td>    \n",
       "</tr>\n",
       "<tr>\n",
       "  <th>Covariance Type:</th>      <td>nonrobust</td>    <th>                     </th>     <td> </td>    \n",
       "</tr>\n",
       "</table>\n",
       "<table class=\"simpletable\">\n",
       "<tr>\n",
       "     <td></td>        <th>coef</th>     <th>std err</th>      <th>t</th>      <th>P>|t|</th>  <th>[0.025</th>    <th>0.975]</th>  \n",
       "</tr>\n",
       "<tr>\n",
       "  <th>const</th>   <td>    1.0150</td> <td>    0.109</td> <td>    9.303</td> <td> 0.000</td> <td>    0.801</td> <td>    1.229</td>\n",
       "</tr>\n",
       "<tr>\n",
       "  <th>year</th>    <td>    0.0357</td> <td>    0.007</td> <td>    5.034</td> <td> 0.000</td> <td>    0.022</td> <td>    0.050</td>\n",
       "</tr>\n",
       "<tr>\n",
       "  <th>Funding</th> <td> 5.728e-07</td> <td> 2.14e-07</td> <td>    2.675</td> <td> 0.007</td> <td> 1.53e-07</td> <td> 9.93e-07</td>\n",
       "</tr>\n",
       "</table>\n",
       "<table class=\"simpletable\">\n",
       "<tr>\n",
       "  <th>Omnibus:</th>       <td>4918.989</td> <th>  Durbin-Watson:     </th>  <td>   1.984</td> \n",
       "</tr>\n",
       "<tr>\n",
       "  <th>Prob(Omnibus):</th>  <td> 0.000</td>  <th>  Jarque-Bera (JB):  </th> <td>255684.936</td>\n",
       "</tr>\n",
       "<tr>\n",
       "  <th>Skew:</th>           <td> 4.828</td>  <th>  Prob(JB):          </th>  <td>    0.00</td> \n",
       "</tr>\n",
       "<tr>\n",
       "  <th>Kurtosis:</th>       <td>36.676</td>  <th>  Cond. No.          </th>  <td>1.08e+06</td> \n",
       "</tr>\n",
       "</table><br/><br/>Notes:<br/>[1] Standard Errors assume that the covariance matrix of the errors is correctly specified.<br/>[2] The condition number is large, 1.08e+06. This might indicate that there are<br/>strong multicollinearity or other numerical problems."
      ],
      "text/latex": [
       "\\begin{center}\n",
       "\\begin{tabular}{lclc}\n",
       "\\toprule\n",
       "\\textbf{Dep. Variable:}    &    papersNum     & \\textbf{  R-squared:         } &     0.007   \\\\\n",
       "\\textbf{Model:}            &       OLS        & \\textbf{  Adj. R-squared:    } &     0.006   \\\\\n",
       "\\textbf{Method:}           &  Least Squares   & \\textbf{  F-statistic:       } &     16.45   \\\\\n",
       "\\textbf{Date:}             & Wed, 05 Feb 2025 & \\textbf{  Prob (F-statistic):} &  7.54e-08   \\\\\n",
       "\\textbf{Time:}             &     16:12:25     & \\textbf{  Log-Likelihood:    } &   -13145.   \\\\\n",
       "\\textbf{No. Observations:} &        5000      & \\textbf{  AIC:               } & 2.630e+04   \\\\\n",
       "\\textbf{Df Residuals:}     &        4997      & \\textbf{  BIC:               } & 2.631e+04   \\\\\n",
       "\\textbf{Df Model:}         &           2      & \\textbf{                     } &             \\\\\n",
       "\\textbf{Covariance Type:}  &    nonrobust     & \\textbf{                     } &             \\\\\n",
       "\\bottomrule\n",
       "\\end{tabular}\n",
       "\\begin{tabular}{lcccccc}\n",
       "                 & \\textbf{coef} & \\textbf{std err} & \\textbf{t} & \\textbf{P$> |$t$|$} & \\textbf{[0.025} & \\textbf{0.975]}  \\\\\n",
       "\\midrule\n",
       "\\textbf{const}   &       1.0150  &        0.109     &     9.303  &         0.000        &        0.801    &        1.229     \\\\\n",
       "\\textbf{year}    &       0.0357  &        0.007     &     5.034  &         0.000        &        0.022    &        0.050     \\\\\n",
       "\\textbf{Funding} &    5.728e-07  &     2.14e-07     &     2.675  &         0.007        &     1.53e-07    &     9.93e-07     \\\\\n",
       "\\bottomrule\n",
       "\\end{tabular}\n",
       "\\begin{tabular}{lclc}\n",
       "\\textbf{Omnibus:}       & 4918.989 & \\textbf{  Durbin-Watson:     } &     1.984   \\\\\n",
       "\\textbf{Prob(Omnibus):} &   0.000  & \\textbf{  Jarque-Bera (JB):  } & 255684.936  \\\\\n",
       "\\textbf{Skew:}          &   4.828  & \\textbf{  Prob(JB):          } &      0.00   \\\\\n",
       "\\textbf{Kurtosis:}      &  36.676  & \\textbf{  Cond. No.          } &  1.08e+06   \\\\\n",
       "\\bottomrule\n",
       "\\end{tabular}\n",
       "%\\caption{OLS Regression Results}\n",
       "\\end{center}\n",
       "\n",
       "Notes: \\newline\n",
       " [1] Standard Errors assume that the covariance matrix of the errors is correctly specified. \\newline\n",
       " [2] The condition number is large, 1.08e+06. This might indicate that there are \\newline\n",
       " strong multicollinearity or other numerical problems."
      ],
      "text/plain": [
       "<class 'statsmodels.iolib.summary.Summary'>\n",
       "\"\"\"\n",
       "                            OLS Regression Results                            \n",
       "==============================================================================\n",
       "Dep. Variable:              papersNum   R-squared:                       0.007\n",
       "Model:                            OLS   Adj. R-squared:                  0.006\n",
       "Method:                 Least Squares   F-statistic:                     16.45\n",
       "Date:                Wed, 05 Feb 2025   Prob (F-statistic):           7.54e-08\n",
       "Time:                        16:12:25   Log-Likelihood:                -13145.\n",
       "No. Observations:                5000   AIC:                         2.630e+04\n",
       "Df Residuals:                    4997   BIC:                         2.631e+04\n",
       "Df Model:                           2                                         \n",
       "Covariance Type:            nonrobust                                         \n",
       "==============================================================================\n",
       "                 coef    std err          t      P>|t|      [0.025      0.975]\n",
       "------------------------------------------------------------------------------\n",
       "const          1.0150      0.109      9.303      0.000       0.801       1.229\n",
       "year           0.0357      0.007      5.034      0.000       0.022       0.050\n",
       "Funding     5.728e-07   2.14e-07      2.675      0.007    1.53e-07    9.93e-07\n",
       "==============================================================================\n",
       "Omnibus:                     4918.989   Durbin-Watson:                   1.984\n",
       "Prob(Omnibus):                  0.000   Jarque-Bera (JB):           255684.936\n",
       "Skew:                           4.828   Prob(JB):                         0.00\n",
       "Kurtosis:                      36.676   Cond. No.                     1.08e+06\n",
       "==============================================================================\n",
       "\n",
       "Notes:\n",
       "[1] Standard Errors assume that the covariance matrix of the errors is correctly specified.\n",
       "[2] The condition number is large, 1.08e+06. This might indicate that there are\n",
       "strong multicollinearity or other numerical problems.\n",
       "\"\"\""
      ]
     },
     "execution_count": 533,
     "metadata": {},
     "output_type": "execute_result"
    }
   ],
   "source": [
    "data_reg = merged_df[['year', 'Funding', 'papersNum']]\n",
    "data_reg = sm.add_constant(data_reg)\n",
    "lsmod = sm.OLS(data_reg['papersNum'], data_reg[['const', 'year', 'Funding']]).fit()\n",
    "lsmod.summary()"
   ]
  }
 ],
 "metadata": {
  "kernelspec": {
   "display_name": "Python 3 (ipykernel)",
   "language": "python",
   "name": "python3"
  },
  "language_info": {
   "codemirror_mode": {
    "name": "ipython",
    "version": 3
   },
   "file_extension": ".py",
   "mimetype": "text/x-python",
   "name": "python",
   "nbconvert_exporter": "python",
   "pygments_lexer": "ipython3",
   "version": "3.12.7"
  }
 },
 "nbformat": 4,
 "nbformat_minor": 5
}
